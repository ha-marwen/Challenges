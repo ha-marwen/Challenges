{
 "cells": [
  {
   "cell_type": "code",
   "execution_count": 1,
   "metadata": {},
   "outputs": [],
   "source": [
    "import numpy as np"
   ]
  },
  {
   "cell_type": "code",
   "execution_count": 2,
   "metadata": {},
   "outputs": [],
   "source": [
    "# Steps to move north /south /east /west\n",
    "dx=[1,0,-1,0]\n",
    "dy=[0,1,0,-1]"
   ]
  },
  {
   "cell_type": "code",
   "execution_count": 3,
   "metadata": {},
   "outputs": [],
   "source": [
    "# Check if the cell is inside the matrix boundaries\n",
    "def inside(x,y) :\n",
    "    return ((x>=0) and (y>=0) and (x<n) and (y<n))"
   ]
  },
  {
   "cell_type": "code",
   "execution_count": 4,
   "metadata": {},
   "outputs": [],
   "source": [
    "# Depth First Search traversal\n",
    "def explore_dfs(matrix,x,y) :\n",
    "    visited[x][y] = counter\n",
    "    result = 1\n",
    "    for k in range(4) :\n",
    "        nx = x + dx[k]\n",
    "        ny = y+dy[k]\n",
    "        # if new cell is inside the matrix boundries and has the same value, we continue exploring through it\n",
    "        if(inside(x,y) and inside(nx,ny) and (matrix[nx][ny]==matrix[x][y]) and ( visited[nx][ny] == 0)):\n",
    "            result= explore_dfs(matrix,nx,ny) + result\n",
    "    return result"
   ]
  },
  {
   "cell_type": "code",
   "execution_count": 5,
   "metadata": {
    "scrolled": true
   },
   "outputs": [
    {
     "name": "stdout",
     "output_type": "stream",
     "text": [
      "enter size of matrix 10\n"
     ]
    }
   ],
   "source": [
    "n = int(input('enter size of matrix '))"
   ]
  },
  {
   "cell_type": "code",
   "execution_count": 6,
   "metadata": {},
   "outputs": [],
   "source": [
    "import numpy as np\n",
    "matrix = np.random.choice([x for x in range(0, 5)], n*n)\n",
    "matrix.resize(n, n)\n",
    "matrix = matrix.astype(int)"
   ]
  },
  {
   "cell_type": "code",
   "execution_count": 7,
   "metadata": {
    "scrolled": false
   },
   "outputs": [],
   "source": [
    "visited = np.zeros((n,n))\n",
    "visited = visited.astype(int)"
   ]
  },
  {
   "cell_type": "code",
   "execution_count": 8,
   "metadata": {},
   "outputs": [],
   "source": [
    "best = 0\n",
    "bi = 0\n",
    "bj = 0\n",
    "counter = 0"
   ]
  },
  {
   "cell_type": "code",
   "execution_count": 9,
   "metadata": {
    "scrolled": false
   },
   "outputs": [],
   "source": [
    "for i in range(n):\n",
    "    for j in range(n):\n",
    "        if (visited[i][j] == 0):\n",
    "            counter =counter + 1            \n",
    "            curr = explore_dfs(matrix,i,j)\n",
    "            if (curr > best) :\n",
    "                best = curr\n",
    "                bi=i\n",
    "                bj=j"
   ]
  },
  {
   "cell_type": "code",
   "execution_count": 10,
   "metadata": {
    "scrolled": false
   },
   "outputs": [
    {
     "name": "stdout",
     "output_type": "stream",
     "text": [
      "[[2 1 2 0 3 0 1 0 3 1]\n",
      " [3 2 3 2 2 1 3 0 2 2]\n",
      " [2 4 1 2 0 1 2 4 1 2]\n",
      " [4 4 2 1 1 0 3 1 1 2]\n",
      " [0 4 1 4 2 3 0 4 2 0]\n",
      " [0 4 3 1 4 1 3 2 1 1]\n",
      " [4 4 4 4 4 3 0 4 2 3]\n",
      " [1 4 3 3 1 4 1 4 4 3]\n",
      " [3 4 0 1 4 0 4 4 4 3]\n",
      " [0 0 3 4 0 0 2 4 3 1]]\n",
      "\n",
      "\n",
      "The largest island contains 13 values \n",
      "\n",
      ". . . . . . . . . . \n",
      "\n",
      ". . . . . . . . . . \n",
      "\n",
      ". X . . . . . . . . \n",
      "\n",
      "X X . . . . . . . . \n",
      "\n",
      ". X . . . . . . . . \n",
      "\n",
      ". X . . X . . . . . \n",
      "\n",
      "X X X X X . . . . . \n",
      "\n",
      ". X . . . . . . . . \n",
      "\n",
      ". X . . . . . . . . \n",
      "\n",
      ". . . . . . . . . . \n",
      "\n"
     ]
    }
   ],
   "source": [
    "print(matrix)\n",
    "print('\\n')\n",
    "print('The largest island contains {} values \\n'.format(best))\n",
    "for i in range(n):\n",
    "    for j in range(n):\n",
    "        if (visited[i][j] == visited[bi][bj]) :\n",
    "            print(\"X \", end='')\n",
    "        else :\n",
    "            print(\". \", end='')\n",
    "    print('\\n')"
   ]
  },
  {
   "cell_type": "code",
   "execution_count": null,
   "metadata": {},
   "outputs": [],
   "source": []
  }
 ],
 "metadata": {
  "kernelspec": {
   "display_name": "Python 3",
   "language": "python",
   "name": "python3"
  },
  "language_info": {
   "codemirror_mode": {
    "name": "ipython",
    "version": 3
   },
   "file_extension": ".py",
   "mimetype": "text/x-python",
   "name": "python",
   "nbconvert_exporter": "python",
   "pygments_lexer": "ipython3",
   "version": "3.6.5"
  }
 },
 "nbformat": 4,
 "nbformat_minor": 2
}
