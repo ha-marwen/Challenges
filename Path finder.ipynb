{
 "cells": [
  {
   "cell_type": "code",
   "execution_count": 1,
   "metadata": {},
   "outputs": [],
   "source": [
    "import sys\n",
    "import numpy as np"
   ]
  },
  {
   "cell_type": "code",
   "execution_count": 2,
   "metadata": {},
   "outputs": [],
   "source": [
    "dx = [1,0,-1,0]\n",
    "dy = [0,1,0,-1]"
   ]
  },
  {
   "cell_type": "code",
   "execution_count": 17,
   "metadata": {},
   "outputs": [],
   "source": [
    "def display_path(matrix,path) :\n",
    "    print('Path that sums up to 21 \\n')\n",
    "    for elt in path :\n",
    "        x,y = elt\n",
    "        print (matrix[x][y], ' (', x, ',', y,')')\n",
    "    print('\\n')\n",
    "    sys.exit(1)\n"
   ]
  },
  {
   "cell_type": "code",
   "execution_count": 18,
   "metadata": {},
   "outputs": [],
   "source": [
    "def inside(x,y) :\n",
    "    return ((x>=0) and (y>=0) and (x<n) and (y<n))"
   ]
  },
  {
   "cell_type": "code",
   "execution_count": 19,
   "metadata": {},
   "outputs": [],
   "source": [
    "def value(matrix,path) :\n",
    "    result = 0\n",
    "    for elt in path:\n",
    "        x,y = elt\n",
    "        result += matrix[x][y]\n",
    "    return result"
   ]
  },
  {
   "cell_type": "code",
   "execution_count": 20,
   "metadata": {},
   "outputs": [],
   "source": [
    "def explore_dfs(matrix,i,j,curr) :\n",
    "    if (value(matrix,curr)>21):\n",
    "        return\n",
    "    if(value(matrix,curr)==21) :\n",
    "        display_path(matrix,curr)\n",
    "        return\n",
    "    for k in range(4) :\n",
    "        ni = i + dx[k]\n",
    "        nj = j + dy[k]\n",
    "        if (not inside(ni,nj)) or ((ni,nj) in curr):\n",
    "            continue\n",
    "        tmp = curr[:]\n",
    "        tmp.append((i,j))\n",
    "        explore_dfs(matrix,ni, nj, tmp)\n",
    "        \n",
    "        "
   ]
  },
  {
   "cell_type": "code",
   "execution_count": 31,
   "metadata": {},
   "outputs": [
    {
     "name": "stdout",
     "output_type": "stream",
     "text": [
      "enter size of matrix :6\n",
      "\n",
      "\n",
      "[[1 9 5 5 0 8]\n",
      " [2 9 9 3 9 9]\n",
      " [8 5 0 8 2 1]\n",
      " [0 9 4 5 2 0]\n",
      " [0 1 1 9 4 9]\n",
      " [5 0 6 2 6 5]]\n"
     ]
    }
   ],
   "source": [
    "n = int(input('enter size of matrix :'))\n",
    "print('\\n')\n",
    "matrix = np.random.randint(10, size=(n, n))\n",
    "print(matrix)"
   ]
  },
  {
   "cell_type": "code",
   "execution_count": 32,
   "metadata": {},
   "outputs": [
    {
     "name": "stdout",
     "output_type": "stream",
     "text": [
      "Path that sums up to 21 \n",
      "\n",
      "1  ( 0 , 0 )\n",
      "2  ( 1 , 0 )\n",
      "8  ( 2 , 0 )\n",
      "0  ( 3 , 0 )\n",
      "0  ( 4 , 0 )\n",
      "1  ( 4 , 1 )\n",
      "1  ( 4 , 2 )\n",
      "6  ( 5 , 2 )\n",
      "2  ( 5 , 3 )\n",
      "\n",
      "\n"
     ]
    },
    {
     "ename": "SystemExit",
     "evalue": "1",
     "output_type": "error",
     "traceback": [
      "An exception has occurred, use %tb to see the full traceback.\n",
      "\u001b[1;31mSystemExit\u001b[0m\u001b[1;31m:\u001b[0m 1\n"
     ]
    },
    {
     "name": "stderr",
     "output_type": "stream",
     "text": [
      "C:\\Users\\hamar\\Anaconda3\\lib\\site-packages\\IPython\\core\\interactiveshell.py:2971: UserWarning: To exit: use 'exit', 'quit', or Ctrl-D.\n",
      "  warn(\"To exit: use 'exit', 'quit', or Ctrl-D.\", stacklevel=1)\n"
     ]
    }
   ],
   "source": [
    "for i in range(n):\n",
    "    for j in range(n) :\n",
    "        tmp = []\n",
    "        explore_dfs(matrix,i,j,tmp)        \n",
    "        "
   ]
  },
  {
   "cell_type": "code",
   "execution_count": null,
   "metadata": {},
   "outputs": [],
   "source": []
  }
 ],
 "metadata": {
  "kernelspec": {
   "display_name": "Python 3",
   "language": "python",
   "name": "python3"
  },
  "language_info": {
   "codemirror_mode": {
    "name": "ipython",
    "version": 3
   },
   "file_extension": ".py",
   "mimetype": "text/x-python",
   "name": "python",
   "nbconvert_exporter": "python",
   "pygments_lexer": "ipython3",
   "version": "3.6.5"
  }
 },
 "nbformat": 4,
 "nbformat_minor": 2
}
