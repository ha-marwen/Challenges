{
 "cells": [
  {
   "cell_type": "code",
   "execution_count": 1,
   "metadata": {},
   "outputs": [],
   "source": [
    "import sys\n",
    "import numpy as np"
   ]
  },
  {
   "cell_type": "code",
   "execution_count": 2,
   "metadata": {},
   "outputs": [],
   "source": [
    "# Steps to move north /south /east /west\n",
    "dx = [1,0,-1,0]\n",
    "dy = [0,1,0,-1]"
   ]
  },
  {
   "cell_type": "code",
   "execution_count": 3,
   "metadata": {},
   "outputs": [],
   "source": [
    "# Print the path\n",
    "def display_path(matrix,path) :\n",
    "    print('Path that sums up to 21 \\n')\n",
    "    for elt in path :\n",
    "        x,y = elt\n",
    "        print (matrix[x][y], ' (', x, ',', y,')')\n",
    "    print('\\n')\n",
    "    sys.exit(1)\n"
   ]
  },
  {
   "cell_type": "code",
   "execution_count": 4,
   "metadata": {},
   "outputs": [],
   "source": [
    "# Check if the cell is inside the matrix boundaries\n",
    "def inside(x,y) :\n",
    "    return ((x>=0) and (y>=0) and (x<n) and (y<n))"
   ]
  },
  {
   "cell_type": "code",
   "execution_count": 5,
   "metadata": {},
   "outputs": [],
   "source": [
    "# Count the sum of values in the matrix\n",
    "def value(matrix,path) :\n",
    "    result = 0\n",
    "    for elt in path:\n",
    "        x,y = elt\n",
    "        result += matrix[x][y]\n",
    "    return result"
   ]
  },
  {
   "cell_type": "code",
   "execution_count": 6,
   "metadata": {},
   "outputs": [],
   "source": [
    "# Depth First Search traversal\n",
    "def explore_dfs(matrix,i,j,curr) :\n",
    "    if (value(matrix,curr)>21):\n",
    "        return\n",
    "    if(value(matrix,curr)==21) :\n",
    "        display_path(matrix,curr)\n",
    "        return\n",
    "    for k in range(4) :\n",
    "        ni = i + dx[k]\n",
    "        nj = j + dy[k]\n",
    "        if (inside(ni,nj) == 0) or ((ni,nj) in curr):\n",
    "            # if a new cell is out of boundaries or already in path we skip it\n",
    "            continue\n",
    "        tmp = curr[:]\n",
    "        tmp.append((i,j))\n",
    "        # we continue exploring through the new cell\n",
    "        explore_dfs(matrix,ni, nj, tmp)\n",
    "            "
   ]
  },
  {
   "cell_type": "code",
   "execution_count": 7,
   "metadata": {},
   "outputs": [
    {
     "name": "stdout",
     "output_type": "stream",
     "text": [
      "enter size of matrix :10\n",
      "\n",
      "\n",
      "[[6 9 4 9 8 7 0 7 0 0]\n",
      " [0 4 8 9 9 9 7 0 2 7]\n",
      " [1 6 4 0 5 4 7 2 2 8]\n",
      " [7 4 0 4 0 9 0 9 4 8]\n",
      " [5 7 9 2 5 2 4 6 2 9]\n",
      " [8 4 3 7 6 7 2 6 3 2]\n",
      " [2 9 7 2 9 6 5 9 2 6]\n",
      " [9 4 0 8 4 4 6 9 0 7]\n",
      " [4 3 0 0 2 6 8 1 9 0]\n",
      " [5 5 9 9 8 4 2 6 6 0]]\n"
     ]
    }
   ],
   "source": [
    "n = int(input('enter size of matrix :'))\n",
    "print('\\n')\n",
    "matrix = np.random.randint(10, size=(n, n))\n",
    "print(matrix)"
   ]
  },
  {
   "cell_type": "code",
   "execution_count": 8,
   "metadata": {},
   "outputs": [
    {
     "name": "stdout",
     "output_type": "stream",
     "text": [
      "Path that sums up to 21 \n",
      "\n",
      "6  ( 0 , 0 )\n",
      "0  ( 1 , 0 )\n",
      "1  ( 2 , 0 )\n",
      "6  ( 2 , 1 )\n",
      "4  ( 3 , 1 )\n",
      "0  ( 3 , 2 )\n",
      "4  ( 3 , 3 )\n",
      "\n",
      "\n"
     ]
    },
    {
     "ename": "SystemExit",
     "evalue": "1",
     "output_type": "error",
     "traceback": [
      "An exception has occurred, use %tb to see the full traceback.\n",
      "\u001b[1;31mSystemExit\u001b[0m\u001b[1;31m:\u001b[0m 1\n"
     ]
    },
    {
     "name": "stderr",
     "output_type": "stream",
     "text": [
      "C:\\Users\\hamar\\Anaconda3\\lib\\site-packages\\IPython\\core\\interactiveshell.py:2971: UserWarning: To exit: use 'exit', 'quit', or Ctrl-D.\n",
      "  warn(\"To exit: use 'exit', 'quit', or Ctrl-D.\", stacklevel=1)\n"
     ]
    }
   ],
   "source": [
    "for i in range(n):\n",
    "    for j in range(n) :\n",
    "        tmp = []\n",
    "        explore_dfs(matrix,i,j,tmp)        \n",
    "        "
   ]
  },
  {
   "cell_type": "code",
   "execution_count": null,
   "metadata": {},
   "outputs": [],
   "source": []
  }
 ],
 "metadata": {
  "kernelspec": {
   "display_name": "Python 3",
   "language": "python",
   "name": "python3"
  },
  "language_info": {
   "codemirror_mode": {
    "name": "ipython",
    "version": 3
   },
   "file_extension": ".py",
   "mimetype": "text/x-python",
   "name": "python",
   "nbconvert_exporter": "python",
   "pygments_lexer": "ipython3",
   "version": "3.6.5"
  }
 },
 "nbformat": 4,
 "nbformat_minor": 2
}
